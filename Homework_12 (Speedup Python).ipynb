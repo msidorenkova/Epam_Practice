{
 "cells": [
  {
   "cell_type": "markdown",
   "metadata": {},
   "source": [
    "### __Домашнее задание к лекции 12 (Ускорение Python)__"
   ]
  },
  {
   "cell_type": "markdown",
   "metadata": {},
   "source": [
    "Для следующих простых задач нужно привести 2-3 способа решения на python, сравнить\n",
    "между собой эти способы по затрачиваемым времени и памяти и объяснить с чем это\n",
    "может быть связано.\n",
    "1. Чтение/запись в словарь. При попытке чтения несуществующего ключа возвращается\n",
    "None.\n",
    "2. К каждому элементу списка применить какуе-либо преобразование (например, для\n",
    "числового списка - возвести в кавдрат, для строкового - привести к верхнему\n",
    "регистру, отфильтровать определенные символы, и т.д.).\n",
    "3. Отсортировать список.\n",
    "4. Распаковать вложенный список."
   ]
  },
  {
   "cell_type": "markdown",
   "metadata": {},
   "source": [
    "#### 1. Чтение/запись в словарь. При попытке чтения несуществующего ключа возвращается None."
   ]
  },
  {
   "cell_type": "code",
   "execution_count": 24,
   "metadata": {},
   "outputs": [],
   "source": [
    "d = {i: i*2 for i in range(10000)}"
   ]
  },
  {
   "cell_type": "markdown",
   "metadata": {},
   "source": [
    "###### 1) Чтение из словаря:"
   ]
  },
  {
   "cell_type": "markdown",
   "metadata": {},
   "source": [
    "- Обращение по ключу:"
   ]
  },
  {
   "cell_type": "code",
   "execution_count": 25,
   "metadata": {},
   "outputs": [
    {
     "name": "stdout",
     "output_type": "stream",
     "text": [
      "229 ns ± 12.9 ns per loop (mean ± std. dev. of 7 runs, 1000000 loops each)\n",
      "475 ns ± 14.5 ns per loop (mean ± std. dev. of 7 runs, 1000000 loops each)\n"
     ]
    }
   ],
   "source": [
    "def read_dict(d, val):\n",
    "    try: \n",
    "        value = d[val]\n",
    "    except KeyError:\n",
    "        value = None\n",
    "    return value\n",
    "    \n",
    "%timeit read_dict(d, 100)\n",
    "%timeit read_dict(d, 10001)"
   ]
  },
  {
   "cell_type": "markdown",
   "metadata": {},
   "source": [
    "- Использование метода get:"
   ]
  },
  {
   "cell_type": "code",
   "execution_count": 26,
   "metadata": {},
   "outputs": [
    {
     "name": "stdout",
     "output_type": "stream",
     "text": [
      "98.6 ns ± 12.9 ns per loop (mean ± std. dev. of 7 runs, 10000000 loops each)\n",
      "90.5 ns ± 4.34 ns per loop (mean ± std. dev. of 7 runs, 10000000 loops each)\n"
     ]
    }
   ],
   "source": [
    "%timeit d.get(100)\n",
    "%timeit d.get(10001)"
   ]
  },
  {
   "cell_type": "markdown",
   "metadata": {},
   "source": [
    "- Использование метода setdefault:"
   ]
  },
  {
   "cell_type": "code",
   "execution_count": 27,
   "metadata": {},
   "outputs": [
    {
     "name": "stdout",
     "output_type": "stream",
     "text": [
      "95.3 ns ± 3.65 ns per loop (mean ± std. dev. of 7 runs, 10000000 loops each)\n",
      "97.4 ns ± 8.62 ns per loop (mean ± std. dev. of 7 runs, 10000000 loops each)\n"
     ]
    }
   ],
   "source": [
    "%timeit d.setdefault(100)\n",
    "%timeit d.setdefault(10001)"
   ]
  },
  {
   "cell_type": "markdown",
   "metadata": {},
   "source": [
    "Из трех приведенных способов решения данной задачи наиболее быстрый результат показали способы с использованием методов get и\n",
    "setdefault. Данные методы имеют похожую реализацию, поэтому и время их выполнения примерно одинаково. Разница состоит лишь в \n",
    "том, что при обращении к несуществующему ключу метод get возвращает значение по умолчанию, а метод setdefault создает ключ со \n",
    "значением по умолчанию.Для выполнения задачи по первому способу было затрачено наибольшее время, что можно объяснить отсутствием \n",
    "оптимизации, которая характернадля других способов."
   ]
  },
  {
   "cell_type": "markdown",
   "metadata": {},
   "source": [
    "###### 2) Запись в словарь:    "
   ]
  },
  {
   "cell_type": "markdown",
   "metadata": {},
   "source": [
    "- Запись через обращение по ключу:"
   ]
  },
  {
   "cell_type": "code",
   "execution_count": 5,
   "metadata": {},
   "outputs": [
    {
     "name": "stdout",
     "output_type": "stream",
     "text": [
      "72.4 ns ± 6.74 ns per loop (mean ± std. dev. of 7 runs, 10000000 loops each)\n",
      "85.7 ns ± 2.5 ns per loop (mean ± std. dev. of 7 runs, 10000000 loops each)\n"
     ]
    }
   ],
   "source": [
    "%timeit d[100] = 200\n",
    "%timeit d[10001] = 20002"
   ]
  },
  {
   "cell_type": "markdown",
   "metadata": {},
   "source": [
    "- Запись с помощью метода update:"
   ]
  },
  {
   "cell_type": "code",
   "execution_count": 6,
   "metadata": {},
   "outputs": [
    {
     "name": "stdout",
     "output_type": "stream",
     "text": [
      "274 ns ± 16.2 ns per loop (mean ± std. dev. of 7 runs, 1000000 loops each)\n",
      "287 ns ± 16.3 ns per loop (mean ± std. dev. of 7 runs, 1000000 loops each)\n"
     ]
    }
   ],
   "source": [
    "%timeit d.update({100: 200})\n",
    "%timeit d.update({10002: 20004})"
   ]
  },
  {
   "cell_type": "markdown",
   "metadata": {},
   "source": [
    "Запись через обращению по ключу было выполнено быстрее, чем через использование встроенного метода update. Возможно метод \n",
    "update включает в себя дополнительные проверки, которые увеличивают время выполнения кода.\n",
    "\n"
   ]
  },
  {
   "cell_type": "markdown",
   "metadata": {},
   "source": [
    "#### 2. К каждому элементу списка применить какое-либо преобразование (например, для числового списка - возвести в квадрат, для строкового - привести к верхнему регистру, отфильтровать определенные символы, и т.д.)."
   ]
  },
  {
   "cell_type": "markdown",
   "metadata": {},
   "source": [
    "Создаем список:"
   ]
  },
  {
   "cell_type": "code",
   "execution_count": 35,
   "metadata": {},
   "outputs": [],
   "source": [
    "lst = [i for i in range(100000)]"
   ]
  },
  {
   "cell_type": "markdown",
   "metadata": {},
   "source": [
    "Создаем новый список, возведя каждый элемент первого списка в квадрат.\n",
    "\n",
    "- Используем метод append для создания нового списка:"
   ]
  },
  {
   "cell_type": "code",
   "execution_count": 36,
   "metadata": {},
   "outputs": [
    {
     "name": "stdout",
     "output_type": "stream",
     "text": [
      "54.6 ms ± 864 µs per loop (mean ± std. dev. of 7 runs, 10 loops each)\n"
     ]
    }
   ],
   "source": [
    "def upd_list1(lst):\n",
    "    lst2 = []\n",
    "    for i in lst:\n",
    "        lst2.append(i**2)\n",
    "    return lst2\n",
    "\n",
    "%timeit upd_list1(lst)"
   ]
  },
  {
   "cell_type": "markdown",
   "metadata": {},
   "source": [
    "- Используем list comprehension:"
   ]
  },
  {
   "cell_type": "code",
   "execution_count": 37,
   "metadata": {},
   "outputs": [
    {
     "name": "stdout",
     "output_type": "stream",
     "text": [
      "49 ms ± 908 µs per loop (mean ± std. dev. of 7 runs, 10 loops each)\n"
     ]
    }
   ],
   "source": [
    "%timeit [i**2 for i in lst]"
   ]
  },
  {
   "cell_type": "markdown",
   "metadata": {},
   "source": [
    "- Используем функцию map:"
   ]
  },
  {
   "cell_type": "code",
   "execution_count": 38,
   "metadata": {},
   "outputs": [
    {
     "name": "stdout",
     "output_type": "stream",
     "text": [
      "54.2 ms ± 780 µs per loop (mean ± std. dev. of 7 runs, 10 loops each)\n"
     ]
    }
   ],
   "source": [
    "%timeit list(map(lambda x: x**2, lst))"
   ]
  },
  {
   "cell_type": "markdown",
   "metadata": {},
   "source": [
    "Самый быстрый результат показал способ с использованием list comprehension. Функция map и метод append оказались медленнее, \n",
    "причиной чего, возможно, является необходимость выполнения дополнительных действий при использовании данных решений. При\n",
    "использовании map необходимо каждый раз вызывать лямбда-функцию, а также преобразовать генератор в список. В первом решении\n",
    "обращении к методу append происходит на каждой итерации цикла, что также может увеличивать время выполнения кода."
   ]
  },
  {
   "cell_type": "markdown",
   "metadata": {},
   "source": [
    "#### 3. Отсортировать список."
   ]
  },
  {
   "cell_type": "markdown",
   "metadata": {},
   "source": [
    "Создаем два одинаковых неотсортированных списка:"
   ]
  },
  {
   "cell_type": "code",
   "execution_count": 10,
   "metadata": {},
   "outputs": [],
   "source": [
    "import random"
   ]
  },
  {
   "cell_type": "code",
   "execution_count": 11,
   "metadata": {},
   "outputs": [],
   "source": [
    "to_sort = [random.randint(0, 10000) for i in range(10000)]\n",
    "to_sort2 = to_sort.copy()"
   ]
  },
  {
   "cell_type": "markdown",
   "metadata": {},
   "source": [
    "- Используем функцию sorted:"
   ]
  },
  {
   "cell_type": "code",
   "execution_count": 12,
   "metadata": {},
   "outputs": [
    {
     "name": "stdout",
     "output_type": "stream",
     "text": [
      "1.57 ms ± 16.9 µs per loop (mean ± std. dev. of 7 runs, 1000 loops each)\n"
     ]
    }
   ],
   "source": [
    "%timeit sorted(to_sort)"
   ]
  },
  {
   "cell_type": "markdown",
   "metadata": {},
   "source": [
    "- Используем метод sort:"
   ]
  },
  {
   "cell_type": "code",
   "execution_count": 13,
   "metadata": {},
   "outputs": [
    {
     "name": "stdout",
     "output_type": "stream",
     "text": [
      "78 µs ± 1.5 µs per loop (mean ± std. dev. of 7 runs, 10000 loops each)\n"
     ]
    }
   ],
   "source": [
    "%timeit to_sort.sort()"
   ]
  },
  {
   "cell_type": "markdown",
   "metadata": {},
   "source": [
    "- Используем сортировку выбором:"
   ]
  },
  {
   "cell_type": "code",
   "execution_count": 14,
   "metadata": {},
   "outputs": [
    {
     "name": "stdout",
     "output_type": "stream",
     "text": [
      "5.32 s ± 122 ms per loop (mean ± std. dev. of 7 runs, 1 loop each)\n"
     ]
    }
   ],
   "source": [
    "def sel_sort(lst): \n",
    "    for i in range(0, len(lst) - 1): \n",
    "        for j in range(i + 1, len(lst)): \n",
    "            if lst[j] < lst[i]: \n",
    "                lst[i], lst[j] = lst[j], lst[i]\n",
    "%timeit sel_sort(to_sort2)"
   ]
  },
  {
   "cell_type": "markdown",
   "metadata": {},
   "source": [
    "Среди встроенных способов сортировки быстрее оказался метод sort. Функция sorted затрачивает больше времени, т.к. в результате \n",
    "создается новый список, тогда как метод sort сортирует изначальный список, поэтому скорость его выполнения значительно быстрее.\n",
    "Сортировка выбором выполняется значительно дольше других способов сортировки, использованных при решении данной задачи, т.к.\n",
    "реализации данной сортировки выполнена без оптимизаций, присущих встроенным реализациям сортировки."
   ]
  },
  {
   "cell_type": "markdown",
   "metadata": {},
   "source": [
    "#### 4. Распаковать вложенный список."
   ]
  },
  {
   "cell_type": "markdown",
   "metadata": {},
   "source": [
    "Создаем вложенный список:"
   ]
  },
  {
   "cell_type": "code",
   "execution_count": 16,
   "metadata": {},
   "outputs": [],
   "source": [
    "my_lst = [0, [1, 2], [3, 4, 5], 6, 7, [[8], 9]] * 1000"
   ]
  },
  {
   "cell_type": "markdown",
   "metadata": {},
   "source": [
    "- Распаковка вложенных списков с помощью рекурсивной функции:"
   ]
  },
  {
   "cell_type": "code",
   "execution_count": 17,
   "metadata": {},
   "outputs": [
    {
     "name": "stdout",
     "output_type": "stream",
     "text": [
      "4.07 ms ± 550 µs per loop (mean ± std. dev. of 7 runs, 100 loops each)\n"
     ]
    }
   ],
   "source": [
    "def flatten(lst):\n",
    "    new_lst = []\n",
    "    for i in lst:\n",
    "        if isinstance(i, list):\n",
    "            new_lst.extend(flatten(i))\n",
    "        else:\n",
    "            new_lst.append(i)\n",
    "    return new_lst\n",
    "\n",
    "%timeit flatten(my_lst)"
   ]
  },
  {
   "cell_type": "markdown",
   "metadata": {},
   "source": [
    "- Использование средств для распаковки вложенных списков из модуля iteration_utilities:"
   ]
  },
  {
   "cell_type": "code",
   "execution_count": 18,
   "metadata": {},
   "outputs": [
    {
     "name": "stdout",
     "output_type": "stream",
     "text": [
      "261 ns ± 18.3 ns per loop (mean ± std. dev. of 7 runs, 1000000 loops each)\n"
     ]
    }
   ],
   "source": [
    "from iteration_utilities import deepflatten\n",
    "%timeit deepflatten(my_lst)"
   ]
  },
  {
   "cell_type": "markdown",
   "metadata": {},
   "source": [
    "Использование функции deepflatten показало лучший результат по сравнению с использованием рекурсивной функции flatten. Реализация\n",
    "функции deepflatten выполнена на C, кроме того, для ее реализации использован более оптимальный алгоритм, чем для функции flatten,\n",
    "что делает функцию deepflatten значительно быстрее в сравнении с другой функцией."
   ]
  }
 ],
 "metadata": {
  "kernelspec": {
   "display_name": "Python 3",
   "language": "python",
   "name": "python3"
  },
  "language_info": {
   "codemirror_mode": {
    "name": "ipython",
    "version": 3
   },
   "file_extension": ".py",
   "mimetype": "text/x-python",
   "name": "python",
   "nbconvert_exporter": "python",
   "pygments_lexer": "ipython3",
   "version": "3.7.4"
  }
 },
 "nbformat": 4,
 "nbformat_minor": 4
}
